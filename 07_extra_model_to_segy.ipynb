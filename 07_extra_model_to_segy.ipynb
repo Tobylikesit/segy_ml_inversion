{
 "cells": [
  {
   "attachments": {},
   "cell_type": "markdown",
   "metadata": {},
   "source": [
    "This notebook can be used to converted the results from notebook 6 to segy files."
   ]
  },
  {
   "attachments": {},
   "cell_type": "markdown",
   "metadata": {},
   "source": [
    "This method assumes that your model has the same dimensions as seismic data we have"
   ]
  },
  {
   "cell_type": "code",
   "execution_count": null,
   "metadata": {},
   "outputs": [],
   "source": [
    "# IMPORTS\n",
    "%load_ext autoreload\n",
    "%autoreload 2\n",
    "%matplotlib inline\n",
    "\n",
    "\n",
    "\n",
    "import os\n",
    "import numpy as np\n",
    "import segyio"
   ]
  },
  {
   "cell_type": "code",
   "execution_count": null,
   "metadata": {},
   "outputs": [],
   "source": [
    "dtype = np.float32"
   ]
  },
  {
   "cell_type": "markdown",
   "metadata": {},
   "source": [
    "### Write inverted cube back to a segy"
   ]
  },
  {
   "cell_type": "markdown",
   "metadata": {},
   "source": [
    "Not regularized:"
   ]
  },
  {
   "cell_type": "code",
   "execution_count": null,
   "metadata": {},
   "outputs": [
    {
     "data": {
      "text/plain": [
       "False"
      ]
     },
     "metadata": {},
     "output_type": "display_data"
    }
   ],
   "source": [
    "orig_file = '''.\\SEISMIC\\94p07ful.sgy'''\n",
    "\n",
    "f = segyio.open(orig_file, ignore_geometry=True)\n",
    "f.mmap()"
   ]
  },
  {
   "cell_type": "code",
   "execution_count": null,
   "metadata": {},
   "outputs": [
    {
     "name": "stdout",
     "output_type": "stream",
     "text": [
      "# missing traces: 0\n"
     ]
    }
   ],
   "source": [
    "# Geometry reference\n",
    "\n",
    "t = f.samples\n",
    "il = f.attributes(segyio.TraceField.INLINE_3D)[:]\n",
    "xl = f.attributes(segyio.TraceField.CROSSLINE_3D)[:]\n",
    "\n",
    "traces = segyio.collect(f.trace)[:] # DATA\n",
    "ntraces, nt = traces.shape # N traces and N time\n",
    "\n",
    "# Regular IL and XL axes\n",
    "il_unique = np.unique(il)\n",
    "xl_unique = np.unique(xl)\n",
    "\n",
    "il_min, il_max = min(il_unique), max(il_unique)\n",
    "xl_min, xl_max = min(xl_unique), max(xl_unique)\n",
    "\n",
    "dt = t[1] - t[0]\n",
    "dil = min(np.unique(np.diff(il_unique)))\n",
    "dxl = min(np.unique(np.diff(xl_unique)))\n",
    "\n",
    "# regular axis\n",
    "ilines = np.arange(il_min, il_max + dil, dil)\n",
    "xlines = np.arange(xl_min, xl_max + dxl, dxl)\n",
    "nil, nxl = ilines.size, xlines.size\n",
    "\n",
    "ilgrid, xlgrid = np.meshgrid(np.arange(nil),\n",
    "                             np.arange(nxl),\n",
    "                             indexing='ij')\n",
    "\n",
    "# look-up table\n",
    "traces_indeces = np.full((nil, nxl), np.nan)\n",
    "iils = (il - il_min) // dil\n",
    "ixls = (xl - xl_min) // dxl\n",
    "traces_indeces[iils, ixls] = np.arange(ntraces)\n",
    "traces_available = np.logical_not(np.isnan(traces_indeces))\n",
    "print('# missing traces: {}'.format(np.sum(~traces_available)))\n",
    "\n",
    "# reorganize traces in regular grid\n",
    "d = np.zeros((nil, nxl, nt))\n",
    "d[ilgrid.ravel()[traces_available.ravel()],\n",
    "  xlgrid.ravel()[traces_available.ravel()]] = traces"
   ]
  },
  {
   "cell_type": "code",
   "execution_count": null,
   "metadata": {},
   "outputs": [],
   "source": [
    "data_from_model = np.load(\"Your_exported_file.npy\").astype(dtype)"
   ]
  },
  {
   "cell_type": "code",
   "execution_count": null,
   "metadata": {},
   "outputs": [],
   "source": [
    "# Bring traces back to their original order and backuping\n",
    "traces_to_save =  data_from_model[ilgrid.ravel()[traces_available.ravel()],\n",
    "                                 xlgrid.ravel()[traces_available.ravel()]]\n",
    "\n",
    "np.save(\"backup_tts.npy\", traces_to_save)"
   ]
  },
  {
   "attachments": {},
   "cell_type": "markdown",
   "metadata": {},
   "source": [
    "To avoid time consuming rewriting of the geometry, we recommend copying preexisting file with correct geometries and substitution of traces individually."
   ]
  },
  {
   "cell_type": "code",
   "execution_count": null,
   "metadata": {},
   "outputs": [],
   "source": [
    "!cp ./SEISMIC/94p07ful.sgy ./inverted.segy"
   ]
  },
  {
   "cell_type": "code",
   "execution_count": null,
   "metadata": {},
   "outputs": [],
   "source": [
    "itmin,itmax = 0, 0 # DEFINED BY YOUR WINDOW!"
   ]
  },
  {
   "cell_type": "code",
   "execution_count": null,
   "metadata": {},
   "outputs": [],
   "source": [
    "segyfile_inverted = './inverted.segy'\n",
    "inv_file = '''SEISMIC\\Final_inversion_94p07_IPOPT.segy'''\n",
    "with segyio.open(inv_file, ignore_geometry=True) as source:\n",
    "        spec = segyio.spec()\n",
    "        spec.format = int(source.format)\n",
    "        spec.samples = t[itmin:itmax]\n",
    "        spec.tracecount = source.tracecount\n",
    "        print(\"spec done...\")\n",
    "        with segyio.open(segyfile_inverted, \"r+\") as destination:\n",
    "            # Code below is commented as I use copied file of original data for destination\n",
    "            # Copy all textual headers, including possible extended\n",
    "            # for i in range(source.ext_headers):\n",
    "            #     destination.text[i] = source.text[i]\n",
    "\n",
    "            # # Copy the binary header, then insert the modifications needed for the new time axis\n",
    "            # destination.bin = source.bin\n",
    "            # destination.bin = {segyio.BinField.Samples: itmax-itmin}\n",
    "            \n",
    "            # # Copy all trace headers to destination file\n",
    "            # destination.header = source.header \n",
    "\n",
    "            # Copy data and modify trace header\n",
    "            from tqdm.notebook import tqdm\n",
    "            for itrace in tqdm(range(destination.tracecount)):\n",
    "                destination.header[itrace] = {segyio.TraceField.TRACE_SAMPLE_COUNT: itmax-itmin} \n",
    "                destination.trace[itrace] = traces_to_save[itrace].astype('float32')"
   ]
  },
  {
   "cell_type": "code",
   "execution_count": null,
   "metadata": {},
   "outputs": [],
   "source": [
    "# Bring traces back to their original order and backuping\n",
    "\n",
    "traces_to_save_reg =  m_relative_reg[ilgrid.ravel()[traces_available.ravel()],\n",
    "                                 xlgrid.ravel()[traces_available.ravel()]]\n",
    "\n",
    "np.save(\"backup_tts_reg.npy\", traces_to_save_reg)"
   ]
  },
  {
   "cell_type": "markdown",
   "metadata": {},
   "source": [
    "Saving Regularized inversion traces:"
   ]
  },
  {
   "cell_type": "code",
   "execution_count": null,
   "metadata": {},
   "outputs": [],
   "source": [
    "itmin,itmax = 0, 0 # DEFINED BY YOUR WINDOW!"
   ]
  },
  {
   "cell_type": "code",
   "execution_count": null,
   "metadata": {},
   "outputs": [],
   "source": [
    "segyfile_inverted_reg = './inverted_reg.segy'\n",
    "with segyio.open(inv_file, ignore_geometry=True) as source:\n",
    "        spec = segyio.spec()\n",
    "        spec.format = int(source.format)\n",
    "        spec.samples = t[itmin:itmax]\n",
    "        spec.tracecount = source.tracecount\n",
    "        print(\"spec done...\")\n",
    "        with segyio.open(segyfile_inverted_reg, \"r+\") as destination:\n",
    "            # Code below is commented as I use copied file of original data for destination\n",
    "            # Copy all textual headers, including possible extended\n",
    "            # for i in range(source.ext_headers):\n",
    "            #     destination.text[i] = source.text[i]\n",
    "\n",
    "            # # Copy the binary header, then insert the modifications needed for the new time axis\n",
    "            # destination.bin = source.bin\n",
    "            # destination.bin = {segyio.BinField.Samples: itmax-itmin}\n",
    "            \n",
    "            # # Copy all trace headers to destination file\n",
    "            # destination.header = source.header \n",
    "\n",
    "            # Copy data and modify trace header\n",
    "            from tqdm.notebook import tqdm\n",
    "            for itrace in tqdm(range(destination.tracecount)):\n",
    "                destination.header[itrace] = {segyio.TraceField.TRACE_SAMPLE_COUNT: itmax-itmin} \n",
    "                destination.trace[itrace] = traces_to_save_reg[itrace].astype('float32')"
   ]
  },
  {
   "cell_type": "markdown",
   "metadata": {},
   "source": [
    "Read the file back to check if saving was successful"
   ]
  },
  {
   "cell_type": "code",
   "execution_count": null,
   "metadata": {},
   "outputs": [],
   "source": [
    "f1 = segyio.open(segyfile_inverted, ignore_geometry=True)\n",
    "traces1 = segyio.collect(f1.trace)[:]\n",
    "\n",
    "np.allclose(traces1, traces_to_save)\n",
    "#Return True if writing was successful"
   ]
  }
 ],
 "metadata": {
  "kernelspec": {
   "display_name": "ml_",
   "language": "python",
   "name": "python3"
  },
  "language_info": {
   "name": "python",
   "version": "3.8.16"
  },
  "orig_nbformat": 4
 },
 "nbformat": 4,
 "nbformat_minor": 2
}
